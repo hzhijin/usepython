{
  "nbformat": 4,
  "nbformat_minor": 0,
  "metadata": {
    "colab": {
      "name": "test1.ipynb",
      "provenance": [],
      "collapsed_sections": [],
      "include_colab_link": true
    },
    "kernelspec": {
      "name": "python3",
      "display_name": "Python 3"
    }
  },
  "cells": [
    {
      "cell_type": "markdown",
      "metadata": {
        "id": "view-in-github",
        "colab_type": "text"
      },
      "source": [
        "<a href=\"https://colab.research.google.com/github/hzhijin/usepython/blob/master/test1.ipynb\" target=\"_parent\"><img src=\"https://colab.research.google.com/assets/colab-badge.svg\" alt=\"Open In Colab\"/></a>"
      ]
    },
    {
      "cell_type": "markdown",
      "metadata": {
        "id": "i9hqaPCORp9l",
        "colab_type": "text"
      },
      "source": [
        ""
      ]
    },
    {
      "cell_type": "markdown",
      "metadata": {
        "id": "0Oppvk1KGkne",
        "colab_type": "text"
      },
      "source": [
        "<img src=\"https://chs.coronadousd.net/static/media/uploads/Coronado%20High%20School/.thumbnails/test%20100%25-300x0.png\" alt=\"whatever\">"
      ]
    },
    {
      "cell_type": "markdown",
      "metadata": {
        "id": "A4oepbpLJu7K",
        "colab_type": "text"
      },
      "source": [
        "<img src=\"https://drive.google.com/uc?id=12FoRGNQ0MuoZ4fJxWU6WD7S2JsjHXVLx\" alt=\"whatever\">"
      ]
    },
    {
      "cell_type": "markdown",
      "metadata": {
        "id": "jin4MgkeLwE9",
        "colab_type": "text"
      },
      "source": [
        "<a href=\"http://www.w3school.com.cn\">W3School</a>"
      ]
    }
  ]
}